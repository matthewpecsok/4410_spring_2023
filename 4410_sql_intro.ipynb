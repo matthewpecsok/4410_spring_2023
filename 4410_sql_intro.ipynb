{
  "nbformat": 4,
  "nbformat_minor": 0,
  "metadata": {
    "colab": {
      "provenance": [],
      "authorship_tag": "ABX9TyOrLi1HzViSZvhjJKshkXSH",
      "include_colab_link": true
    },
    "kernelspec": {
      "name": "python3",
      "display_name": "Python 3"
    },
    "language_info": {
      "name": "python"
    }
  },
  "cells": [
    {
      "cell_type": "markdown",
      "metadata": {
        "id": "view-in-github",
        "colab_type": "text"
      },
      "source": [
        "<a href=\"https://colab.research.google.com/github/matthewpecsok/4410_spring_2023/blob/main/4410_sql_intro.ipynb\" target=\"_parent\"><img src=\"https://colab.research.google.com/assets/colab-badge.svg\" alt=\"Open In Colab\"/></a>"
      ]
    },
    {
      "cell_type": "code",
      "execution_count": null,
      "metadata": {
        "id": "bmWk9jz0jN8T"
      },
      "outputs": [],
      "source": [
        "# setups including getting the database \n",
        "\n",
        "!wget -O northwind.db https://github.com/matthewpecsok/data_engineering/raw/main/data/northwind.db\n",
        "\n",
        "import sqlite3\n",
        "con = sqlite3.connect(\"northwind.db\")\n",
        "\n",
        "%load_ext sql\n",
        "%sql sqlite:///northwind.db\n",
        "\n",
        "%config SqlMagic.autopandas = True\n",
        "%config SqlMagic.feedback = False\n",
        "%config SqlMagic.displaycon = False\n"
      ]
    },
    {
      "cell_type": "code",
      "source": [
        "%sql select * from customers limit 3"
      ],
      "metadata": {
        "id": "oJx6_nchjSpu"
      },
      "execution_count": null,
      "outputs": []
    },
    {
      "cell_type": "code",
      "source": [
        "%sql "
      ],
      "metadata": {
        "id": "V5g9HaVtjdRt"
      },
      "execution_count": null,
      "outputs": []
    }
  ]
}